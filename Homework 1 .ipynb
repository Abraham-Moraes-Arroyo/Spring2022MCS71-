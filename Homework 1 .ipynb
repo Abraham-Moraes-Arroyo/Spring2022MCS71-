{
 "cells": [
  {
   "cell_type": "markdown",
   "id": "f36145af",
   "metadata": {},
   "source": [
    "# Homework 1 \n",
    "Exercise 2 and 3 lecture 1\n",
    "\n",
    "exercise 3 of lecture 2 \n",
    "\n",
    "Exercises 3 and 4 of lecture 3 "
   ]
  },
  {
   "cell_type": "markdown",
   "id": "8ab05b5d",
   "metadata": {},
   "source": [
    "## Exercise 2 (from lect 1)\n",
    "Show (proof by induction) that evaluation of a polynomial of degree d can be done with d multiplications and d additions. \n",
    "\n",
    "### sol "
   ]
  },
  {
   "cell_type": "markdown",
   "id": "cb0567bf",
   "metadata": {},
   "source": [
    "Basically the same amount of multiplications $*$ will be based on the same amount of $+$. As we can see with the example of cubic, where there are 3 multiplications and 3 additions. "
   ]
  },
  {
   "cell_type": "markdown",
   "id": "8afe1129",
   "metadata": {},
   "source": [
    "Rewirte a cubic: \n",
    "$c_3 * x^3 + c_2 * x^2 + c_1 *x + c_0 = ((c_3 * x+ c_2)*x + c_2 )* + c_0$"
   ]
  },
  {
   "cell_type": "markdown",
   "id": "d6b88b95",
   "metadata": {},
   "source": [
    "As mentioned above there is a same amount of additions to multiplications. "
   ]
  },
  {
   "cell_type": "markdown",
   "id": "297d37b8",
   "metadata": {},
   "source": [
    "The same can be seen with cadric:"
   ]
  },
  {
   "cell_type": "markdown",
   "id": "e828ff70",
   "metadata": {},
   "source": [
    "Rewrite a quadric: \n",
    "$c_2 *x^2 + c_1 *x + c_0= (c_2 * x + c_1)*x + c_0$"
   ]
  },
  {
   "cell_type": "code",
   "execution_count": 2,
   "id": "aa0a142f",
   "metadata": {},
   "outputs": [],
   "source": [
    "# ask Prof. Jan about this part /\\/\\/\\/\\"
   ]
  },
  {
   "cell_type": "code",
   "execution_count": null,
   "id": "38f752d4",
   "metadata": {},
   "outputs": [],
   "source": []
  },
  {
   "cell_type": "markdown",
   "id": "ce39614d",
   "metadata": {},
   "source": [
    "## Exercise 3 (from lect 1)\n",
    "Make a Jupyter notebook to document and execute the computations in ``binaryum.jl``\n",
    "\n",
    "## sol "
   ]
  },
  {
   "cell_type": "code",
   "execution_count": 3,
   "id": "d2899654",
   "metadata": {},
   "outputs": [
    {
     "data": {
      "text/plain": [
       "\"prompts the user for the number of bits, \\ngenerates that number of random bits and \\nreturns the string representations of the bits \\n\""
      ]
     },
     "execution_count": 3,
     "metadata": {},
     "output_type": "execute_result"
    }
   ],
   "source": [
    "\"\"\"\n",
    "prompts the user for the number of bits, \n",
    "generates that number of random bits and \n",
    "returns the string representations of the bits \n",
    "\"\"\""
   ]
  },
  {
   "cell_type": "code",
   "execution_count": 4,
   "id": "058087de",
   "metadata": {},
   "outputs": [
    {
     "data": {
      "text/plain": [
       "randombits (generic function with 1 method)"
      ]
     },
     "execution_count": 4,
     "metadata": {},
     "output_type": "execute_result"
    }
   ],
   "source": [
    "function randombits()\n",
    "    print(\"Give the number of bits in the integer part : \")\n",
    "    line = readline(stdin)\n",
    "    nbintr = parse(Int, line)\n",
    "    intbits = [rand(0:1) for n=1:nbintr]\n",
    "    strintbits = string(intbits)\n",
    "    println(\"Bits in a random integer : $strintbits.\");\n",
    "    strbits = join([string(b) for b in intbits])\n",
    "    println(\"A random integer in binary : $strbits.\");\n",
    "    return strbits\n",
    "end\n",
    "\n"
   ]
  },
  {
   "cell_type": "markdown",
   "id": "3fd44d19",
   "metadata": {},
   "source": [
    "Here we are going to be asking for the user the number that they wish to enter"
   ]
  },
  {
   "cell_type": "code",
   "execution_count": 5,
   "id": "e68d10ac",
   "metadata": {},
   "outputs": [
    {
     "name": "stdout",
     "output_type": "stream",
     "text": [
      "Give the number of bits in the integer part : stdin> 8\n",
      "Bits in a random integer : [1, 1, 0, 0, 0, 1, 0, 0].\n",
      "A random integer in binary : 11000100.\n"
     ]
    },
    {
     "data": {
      "text/plain": [
       "\"11000100\""
      ]
     },
     "execution_count": 5,
     "metadata": {},
     "output_type": "execute_result"
    }
   ],
   "source": [
    "randombits()"
   ]
  },
  {
   "cell_type": "markdown",
   "id": "7199ee3e",
   "metadata": {},
   "source": [
    "Now we are going to be evaluating to an integer "
   ]
  },
  {
   "cell_type": "code",
   "execution_count": 6,
   "id": "c98a5b12",
   "metadata": {},
   "outputs": [
    {
     "data": {
      "text/plain": [
       "\"Given in s are the bits of a positive integer number \\nReturns the value of the number represented \\nby the bits in s.\\n\""
      ]
     },
     "execution_count": 6,
     "metadata": {},
     "output_type": "execute_result"
    }
   ],
   "source": [
    "\"\"\"\n",
    "Given in s are the bits of a positive integer number \n",
    "Returns the value of the number represented \n",
    "by the bits in s.\n",
    "\"\"\""
   ]
  },
  {
   "cell_type": "code",
   "execution_count": 7,
   "id": "7c491d05",
   "metadata": {},
   "outputs": [
    {
     "data": {
      "text/plain": [
       "evaluate_to_integer (generic function with 1 method)"
      ]
     },
     "execution_count": 7,
     "metadata": {},
     "output_type": "execute_result"
    }
   ],
   "source": [
    "function evaluate_to_integer(s::String)\n",
    "    bits = [parse(Int, s[k]) for k=1:length(s)]\n",
    "    result = bits[1]\n",
    "    for k=2:length(bits)\n",
    "        result = result*2 + bits[k]\n",
    "    end\n",
    "    return result\n",
    "end"
   ]
  },
  {
   "cell_type": "markdown",
   "id": "965df845",
   "metadata": {},
   "source": [
    "Now we are going to make a call of the functions so we can get the function to work "
   ]
  },
  {
   "cell_type": "code",
   "execution_count": 15,
   "id": "c80df5d8",
   "metadata": {},
   "outputs": [
    {
     "data": {
      "text/plain": [
       "18"
      ]
     },
     "execution_count": 15,
     "metadata": {},
     "output_type": "execute_result"
    }
   ],
   "source": [
    "evaluate_to_integer(\"90\")"
   ]
  },
  {
   "cell_type": "markdown",
   "id": "f4195807",
   "metadata": {},
   "source": [
    "Here we see the outcome of the funciton where we take the bits of the positive integer number, and we get to see how it returns the value of the number that was represented by the bits in ``s``"
   ]
  },
  {
   "cell_type": "code",
   "execution_count": 40,
   "id": "83fbfd34",
   "metadata": {},
   "outputs": [
    {
     "data": {
      "text/plain": [
       "\"Given in s are the bits of a positive integer fraction \\nreturns the value of the number represented \\nby the bits in s \\n\""
      ]
     },
     "execution_count": 40,
     "metadata": {},
     "output_type": "execute_result"
    }
   ],
   "source": [
    "\"\"\"\n",
    "Given in s are the bits of a positive integer fraction \n",
    "returns the value of the number represented \n",
    "by the bits in s \n",
    "\"\"\""
   ]
  },
  {
   "cell_type": "code",
   "execution_count": 48,
   "id": "e96591a2",
   "metadata": {},
   "outputs": [
    {
     "data": {
      "text/plain": [
       "evaluate_to_integer (generic function with 2 methods)"
      ]
     },
     "execution_count": 48,
     "metadata": {},
     "output_type": "execute_result"
    }
   ],
   "source": [
    "function evaluate_to_integer(s::String)\n",
    "    bits = [parse(Int, s[k]) for k=1:length(s)]\n",
    "    result = bits[1]\n",
    "    for k=2:length(bits)\n",
    "        result = result*2 + bits[k]\n",
    "    end\n",
    "    return result\n",
    "end"
   ]
  },
  {
   "cell_type": "code",
   "execution_count": 50,
   "id": "4be61819",
   "metadata": {},
   "outputs": [
    {
     "ename": "LoadError",
     "evalue": "ArgumentError: invalid digit: '.'",
     "output_type": "error",
     "traceback": [
      "ArgumentError: invalid digit: '.'",
      "",
      "Stacktrace:",
      "  [1] parse(::Type{Int64}, c::Char; base::Int64)",
      "    @ Base ./parse.jl:43",
      "  [2] parse",
      "    @ ./parse.jl:41 [inlined]",
      "  [3] (::var\"#9#10\"{String})(k::Int64)",
      "    @ Main ./none:0",
      "  [4] iterate",
      "    @ ./generator.jl:47 [inlined]",
      "  [5] collect_to!",
      "    @ ./array.jl:782 [inlined]",
      "  [6] collect_to_with_first!",
      "    @ ./array.jl:760 [inlined]",
      "  [7] collect(itr::Base.Generator{UnitRange{Int64}, var\"#9#10\"{String}})",
      "    @ Base ./array.jl:734",
      "  [8] evaluate_to_integer(s::String)",
      "    @ Main ./In[41]:2",
      "  [9] top-level scope",
      "    @ In[50]:2",
      " [10] eval",
      "    @ ./boot.jl:373 [inlined]",
      " [11] include_string(mapexpr::typeof(REPL.softscope), mod::Module, code::String, filename::String)",
      "    @ Base ./loading.jl:1196"
     ]
    }
   ],
   "source": [
    "xr= Float64(12.5)\n",
    "evaluate_to_integer(\"xr\")# look at the lecture 1 ipynb file "
   ]
  },
  {
   "cell_type": "markdown",
   "id": "4f3a1a71",
   "metadata": {},
   "source": [
    "## Run the program binaryum.jl to see how to type in the numbers \n",
    "## I am having issues on typing in the fractions to the worksheet "
   ]
  },
  {
   "cell_type": "markdown",
   "id": "b6d384b9",
   "metadata": {},
   "source": [
    "# exercise 3 of lecture 2 \n",
    "\n"
   ]
  },
  {
   "cell_type": "markdown",
   "id": "fbc17e2f",
   "metadata": {},
   "source": [
    "# Consider a floating-point number system with base 10. There are five digits in the fraction. Exponents range from −7 to +8.\n",
    "## 1. What is the smallest positive floating-point number in this system?\n",
    "## 2. What is the result of 12.381 + 0.098321 in this system?"
   ]
  },
  {
   "cell_type": "markdown",
   "id": "868a2a52",
   "metadata": {},
   "source": [
    "## sol to # 1 "
   ]
  },
  {
   "cell_type": "markdown",
   "id": "31e00879",
   "metadata": {},
   "source": [
    "The machine precision is $10^{-5}$ "
   ]
  },
  {
   "cell_type": "markdown",
   "id": "ef029bc9",
   "metadata": {},
   "source": [
    "## sol to # 2"
   ]
  },
  {
   "cell_type": "markdown",
   "id": "5b689d38",
   "metadata": {},
   "source": [
    "We proceed by representing the numbers first:"
   ]
  },
  {
   "cell_type": "markdown",
   "id": "63b85f53",
   "metadata": {},
   "source": [
    "$12.381= +.12381 x10^{+2}$ and $0.098321 = +.0098321 x10^{+1}$"
   ]
  },
  {
   "cell_type": "markdown",
   "id": "aa0f2285",
   "metadata": {},
   "source": [
    "Before the subtraction, we denormalize the smallest number. \n"
   ]
  },
  {
   "cell_type": "markdown",
   "id": "cf0e6a52",
   "metadata": {},
   "source": [
    "   $$\n",
    "          \\begin{array}{clcl}\n",
    "              & +.12381   & \\times & 10^{+2} \\\\\n",
    "            - & +.00098321 & \\times & 10^{+2} \\\\ \\hline\n",
    "              & +.12479321 & \\times & 10^{+2}\n",
    "          \\end{array}\n",
    "   $$"
   ]
  },
  {
   "cell_type": "markdown",
   "id": "0a6c3828",
   "metadata": {},
   "source": [
    "we see that the final result is rounded: \n",
    "\n",
    "$+.12381 x10^{+2} + +.00098321 x10^{+2}= +12.479 $"
   ]
  },
  {
   "cell_type": "markdown",
   "id": "43894ca7",
   "metadata": {},
   "source": [
    "The cell below verifies the subtraction of the fractions: "
   ]
  },
  {
   "cell_type": "code",
   "execution_count": 55,
   "id": "b111fa36",
   "metadata": {},
   "outputs": [
    {
     "data": {
      "text/plain": [
       "11397.79"
      ]
     },
     "execution_count": 55,
     "metadata": {},
     "output_type": "execute_result"
    }
   ],
   "source": [
    "12381 - 983.21"
   ]
  },
  {
   "cell_type": "code",
   "execution_count": 56,
   "id": "e37db801",
   "metadata": {},
   "outputs": [],
   "source": [
    "# check this with the professor."
   ]
  },
  {
   "cell_type": "markdown",
   "id": "0484c3ba",
   "metadata": {},
   "source": [
    "## Exercises 3 and 4 of lecture 3 "
   ]
  },
  {
   "cell_type": "markdown",
   "id": "424c6e8f",
   "metadata": {},
   "source": [
    "# Exercise 3 \n",
    "We want to find a root of f(x)= x^3 - 7x +1 in the interval [2,3]\n",
    "\n",
    "1. does the bisection method apply to this problem? Justify \n",
    "2. what is the accuracy of excting 20 steps of the bisection method? \n",
    "\n",
    "Jusify without running the bisection method "
   ]
  },
  {
   "cell_type": "code",
   "execution_count": null,
   "id": "79c32d48",
   "metadata": {},
   "outputs": [],
   "source": []
  },
  {
   "cell_type": "code",
   "execution_count": null,
   "id": "584ed83e",
   "metadata": {},
   "outputs": [],
   "source": []
  },
  {
   "cell_type": "code",
   "execution_count": null,
   "id": "0cfd731c",
   "metadata": {},
   "outputs": [],
   "source": []
  },
  {
   "cell_type": "code",
   "execution_count": null,
   "id": "859191f8",
   "metadata": {},
   "outputs": [],
   "source": []
  },
  {
   "cell_type": "code",
   "execution_count": null,
   "id": "5a07d684",
   "metadata": {},
   "outputs": [],
   "source": []
  },
  {
   "cell_type": "markdown",
   "id": "8ea32ec1",
   "metadata": {},
   "source": [
    "# Exercise 4 \n",
    "The equation x=2sin(x) has two fixed points: 0 and 1.895 \n",
    "\n",
    "1. compute the rate of convergence (or divergence) of the fixed-point iteration $x_{k+1} = 2sin(x_{k+1})$, when $x_k$ is close to the fixed point 0 or close to 1.895 \n",
    "\n",
    "2. For $x_0 = 0.5$, compute $x_1$, $x_2$, $x_3$ \n",
    "Draw a cobwe diagram "
   ]
  },
  {
   "cell_type": "code",
   "execution_count": null,
   "id": "88f67bd5",
   "metadata": {},
   "outputs": [],
   "source": []
  }
 ],
 "metadata": {
  "kernelspec": {
   "display_name": "Julia 1.7.3",
   "language": "julia",
   "name": "julia-1.7"
  },
  "language_info": {
   "file_extension": ".jl",
   "mimetype": "application/julia",
   "name": "julia",
   "version": "1.7.3"
  }
 },
 "nbformat": 4,
 "nbformat_minor": 5
}
